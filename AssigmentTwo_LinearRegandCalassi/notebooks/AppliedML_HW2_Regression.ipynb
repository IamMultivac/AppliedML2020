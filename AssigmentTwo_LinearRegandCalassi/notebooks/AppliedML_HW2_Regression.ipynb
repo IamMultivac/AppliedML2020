{
  "nbformat": 4,
  "nbformat_minor": 0,
  "metadata": {
    "colab": {
      "name": "AppliedML_HW2_Regression.ipynb",
      "provenance": [],
      "collapsed_sections": []
    },
    "kernelspec": {
      "name": "python3",
      "display_name": "Python 3"
    }
  },
  "cells": [
    {
      "cell_type": "code",
      "metadata": {
        "id": "EADV-xSh0z_I",
        "colab_type": "code",
        "colab": {
          "base_uri": "https://localhost:8080/",
          "height": 52
        },
        "outputId": "87c741b9-f9c2-483f-93ec-8cd971380988"
      },
      "source": [
        "import numpy as np\n",
        "import pandas as pd\n",
        "\n",
        "import matplotlib.pyplot as plt\n",
        "import seaborn as sns\n",
        "plt.style.use(\"seaborn-whitegrid\")\n",
        "\n",
        "from sklearn.preprocessing import StandardScaler, OneHotEncoder\n",
        "from sklearn.model_selection import cross_val_score, KFold, ShuffleSplit, train_test_split, RandomizedSearchCV, validation_curve\n",
        "from sklearn.pipeline import Pipeline, make_pipeline\n",
        "from sklearn.compose import make_column_transformer\n",
        "from sklearn.metrics import plot_roc_curve\n",
        "\n",
        "from sklearn.impute import KNNImputer, SimpleImputer\n",
        "from sklearn.compose import make_column_selector\n",
        "from sklearn.linear_model import Ridge, Lasso, ElasticNet\n",
        "\n",
        "from sklearn.cluster import FeatureAgglomeration\n",
        "\n",
        "from category_encoders import TargetEncoder, WOEEncoder\n"
      ],
      "execution_count": 1,
      "outputs": [
        {
          "output_type": "stream",
          "text": [
            "/usr/local/lib/python3.6/dist-packages/statsmodels/tools/_testing.py:19: FutureWarning: pandas.util.testing is deprecated. Use the functions in the public API at pandas.testing instead.\n",
            "  import pandas.util.testing as tm\n"
          ],
          "name": "stderr"
        }
      ]
    },
    {
      "cell_type": "code",
      "metadata": {
        "id": "X-6kU4mI1CWn",
        "colab_type": "code",
        "colab": {}
      },
      "source": [
        "def _get_model_name(model):\n",
        "    \"\"\"\n",
        "        Returns a string with the name of a sklearn model\n",
        "            model: Sklearn stimator class\n",
        "    \"\"\"\n",
        "    if isinstance(model, Pipeline):\n",
        "        estimator = model.steps[-1][1]\n",
        "        name = \"Pipeline_\" + str(estimator)[:str(estimator).find(\"(\")]\n",
        "    else: \n",
        "        name = str(model)[:str(model).find(\"(\")]\n",
        "    return name \n",
        "\n",
        "def plot_cv_score(X, y, models_list, cv = 5, scoring = None, refit = True):\n",
        "    \"\"\" \n",
        "        X: numpy_array/pandas dataframe n_rows, m_features\n",
        "        y: numpy_array/pandas dataframe n_rows\n",
        "        Plots min, max and avg kfold crosval_score for a list of models\n",
        "    \n",
        "    \"\"\"\n",
        "\n",
        "    \n",
        "    \n",
        "    names, scores, min_score, max_score, mean_score = list(), list(), list(), list(), list()\n",
        "\n",
        "    for model in models_list:\n",
        "        name = _get_model_name(model)\n",
        "        names.append(name)\n",
        "\n",
        "        if refit:\n",
        "            model.fit(X, y)\n",
        "        \n",
        "        score = cross_val_score(model, X, y, cv = cv, scoring = scoring, n_jobs= -1)\n",
        "\n",
        "        min_score.append(np.min(score))\n",
        "        max_score.append(np.max(score))\n",
        "        mean_score.append(np.mean(score))\n",
        "        scores.append(score)\n",
        "    \n",
        "    frame_summary = pd.DataFrame({'Min':min_score, 'Average': mean_score, 'Max': max_score,}, index = names).sort_values(by = 'Average')\n",
        "\n",
        "    frame_scores = pd.DataFrame(np.vstack(scores).T, columns = names) \n",
        "\n",
        "\n",
        "    fig, ax  = plt.subplots(1,2, figsize = (15,7))\n",
        "\n",
        "    frame_summary.plot.barh(edgecolor = 'black', ax = ax[0], cmap = 'RdYlBu')\n",
        "    ax[0].legend(loc = 'best')\n",
        "    ax[0].set_xlabel(\"Score\")\n",
        "\n",
        "    frame_scores.boxplot(ax = ax[1])\n",
        "    ax[1].set_title(\"Model scores distribution\")\n",
        "    ax[1].set_ylabel(\"Score\")\n",
        "    ax[1].tick_params(labelrotation=90)"
      ],
      "execution_count": 0,
      "outputs": []
    },
    {
      "cell_type": "code",
      "metadata": {
        "id": "QT9UnEey1CaK",
        "colab_type": "code",
        "colab": {}
      },
      "source": [
        "def optimize_parameters(model, param_dict, X, y, cv = None, metric = None, random_state = 1990):\n",
        "    \"\"\"\n",
        "    Performs a cross validation strategy to find the best set of parameters from param_dict\n",
        "    \"\"\"\n",
        "\n",
        "    grid = RandomizedSearchCV(estimator= model,\n",
        "                              param_distributions= param_dict,\n",
        "                              scoring = metric,\n",
        "                              cv = cv,\n",
        "                              random_state= random_state,\n",
        "                              n_jobs= -1,\n",
        "                              return_train_score= True).fit(X, y)\n",
        "    \n",
        "    return grid"
      ],
      "execution_count": 0,
      "outputs": []
    },
    {
      "cell_type": "code",
      "metadata": {
        "id": "7nVGUhYa1CdW",
        "colab_type": "code",
        "colab": {}
      },
      "source": [
        "def plot_validation_curve(model, X, y, param_name, param_range, metric = None, cv = None):\n",
        "\n",
        "    train_scores, test_scores = validation_curve(\n",
        "        model, X, y, param_name= param_name, param_range = param_range,\n",
        "        scoring= metric, cv = cv, n_jobs=-1)\n",
        "    train_scores_mean = np.mean(train_scores, axis=1)\n",
        "    train_scores_std = np.std(train_scores, axis=1)\n",
        "    test_scores_mean = np.mean(test_scores, axis=1)\n",
        "    test_scores_std = np.std(test_scores, axis=1)\n",
        "\n",
        "    plt.title(\"Validation Curve\")\n",
        "    plt.xlabel(param_name)\n",
        "    plt.ylabel(\"Score\")\n",
        "    plt.ylim(0.0, 1.1)\n",
        "    lw = 2\n",
        "    plt.semilogx(param_range, train_scores_mean, label=\"Training score\",\n",
        "                color=\"red\", lw=lw)\n",
        "    plt.fill_between(param_range, train_scores_mean - train_scores_std,\n",
        "                    train_scores_mean + train_scores_std, alpha=0.2,\n",
        "                    color=\"red\", lw=lw)\n",
        "    plt.semilogx(param_range, test_scores_mean, label=\"Cross-validation score\",\n",
        "                color=\"navy\", lw=lw)\n",
        "    plt.fill_between(param_range, test_scores_mean - test_scores_std,\n",
        "                    test_scores_mean + test_scores_std, alpha=0.2,\n",
        "                    color=\"navy\", lw=lw)\n",
        "    plt.legend(loc=\"best\")"
      ],
      "execution_count": 0,
      "outputs": []
    },
    {
      "cell_type": "markdown",
      "metadata": {
        "id": "fuhTdLtu1fy0",
        "colab_type": "text"
      },
      "source": [
        "## Task 2 Regression on Sydney Dataset (60 points)\n",
        "### You can load the Sydney housing dataset from ​ https://www.kaggle.com/shree1992/housedata where you can also find a description. The goal is to predict the ‘price’ column. For this assignment you can ignore the date. Please don’t make any kernels public on Kaggle before the assignment ends.\n",
        "### 2.1 Determine which features are continuous vs categorical. Drop rows without a valid sales price.\n",
        "### 2.2 Visualize the univariate distribution of each continuous feature, and the distribution of the target. Do you notice anything? Is there something that might require special treatment?\n",
        "### 2.3 Visualize the dependency of the target on each continuous feature (2d scatter plot).\n",
        "### 2.4 Split data in training and test set. Do not use the test-set unless for a final evaluation in 2.5.\n",
        "### Use ColumnTransformer and pipeline to encode categorical variables (your choice of OneHotEncoder or another one from the categorical_encoder package, or both). Impute missing values using SimpleImputer. Evaluate Linear Regression (OLS), Ridge, Lasso and ElasticNet using cross-validation with the default parameters. Does scaling the data (within the pipeline) with StandardScaler help? Use the preprocessing that works best going forward.\n",
        "### 2.5 Tune the parameters of the models using GridSearchCV. Do the results improve? Visualize the dependence of the validation score on the parameters for Ridge, Lasso and ElasticNet.\n",
        "### 2.6 Visualize the 20 most important coefficients of the resulting models. Do they agree on which features are important?"
      ]
    },
    {
      "cell_type": "code",
      "metadata": {
        "id": "oY5Gjppw1Cgj",
        "colab_type": "code",
        "colab": {}
      },
      "source": [
        "data = pd.read_csv(\"datasets_46927_85203_data.csv\")"
      ],
      "execution_count": 0,
      "outputs": []
    },
    {
      "cell_type": "code",
      "metadata": {
        "id": "f7_PWPGb2EWi",
        "colab_type": "code",
        "outputId": "9abbff7c-28aa-4f2c-c324-5a682ebdb561",
        "colab": {
          "base_uri": "https://localhost:8080/",
          "height": 391
        }
      },
      "source": [
        "data.sample(7)"
      ],
      "execution_count": 6,
      "outputs": [
        {
          "output_type": "execute_result",
          "data": {
            "text/html": [
              "<div>\n",
              "<style scoped>\n",
              "    .dataframe tbody tr th:only-of-type {\n",
              "        vertical-align: middle;\n",
              "    }\n",
              "\n",
              "    .dataframe tbody tr th {\n",
              "        vertical-align: top;\n",
              "    }\n",
              "\n",
              "    .dataframe thead th {\n",
              "        text-align: right;\n",
              "    }\n",
              "</style>\n",
              "<table border=\"1\" class=\"dataframe\">\n",
              "  <thead>\n",
              "    <tr style=\"text-align: right;\">\n",
              "      <th></th>\n",
              "      <th>date</th>\n",
              "      <th>price</th>\n",
              "      <th>bedrooms</th>\n",
              "      <th>bathrooms</th>\n",
              "      <th>sqft_living</th>\n",
              "      <th>sqft_lot</th>\n",
              "      <th>floors</th>\n",
              "      <th>waterfront</th>\n",
              "      <th>view</th>\n",
              "      <th>condition</th>\n",
              "      <th>sqft_above</th>\n",
              "      <th>sqft_basement</th>\n",
              "      <th>yr_built</th>\n",
              "      <th>yr_renovated</th>\n",
              "      <th>street</th>\n",
              "      <th>city</th>\n",
              "      <th>statezip</th>\n",
              "      <th>country</th>\n",
              "    </tr>\n",
              "  </thead>\n",
              "  <tbody>\n",
              "    <tr>\n",
              "      <th>4044</th>\n",
              "      <td>2014-07-07 00:00:00</td>\n",
              "      <td>509900.0</td>\n",
              "      <td>3.0</td>\n",
              "      <td>2.50</td>\n",
              "      <td>3030</td>\n",
              "      <td>9053</td>\n",
              "      <td>2.0</td>\n",
              "      <td>0</td>\n",
              "      <td>0</td>\n",
              "      <td>3</td>\n",
              "      <td>3030</td>\n",
              "      <td>0</td>\n",
              "      <td>2009</td>\n",
              "      <td>0</td>\n",
              "      <td>5221 NE 7th Pl</td>\n",
              "      <td>Renton</td>\n",
              "      <td>WA 98059</td>\n",
              "      <td>USA</td>\n",
              "    </tr>\n",
              "    <tr>\n",
              "      <th>3872</th>\n",
              "      <td>2014-07-02 00:00:00</td>\n",
              "      <td>262000.0</td>\n",
              "      <td>5.0</td>\n",
              "      <td>1.00</td>\n",
              "      <td>1870</td>\n",
              "      <td>7800</td>\n",
              "      <td>1.0</td>\n",
              "      <td>0</td>\n",
              "      <td>0</td>\n",
              "      <td>3</td>\n",
              "      <td>1580</td>\n",
              "      <td>290</td>\n",
              "      <td>1962</td>\n",
              "      <td>2003</td>\n",
              "      <td>903 S 101st St</td>\n",
              "      <td>Seattle</td>\n",
              "      <td>WA 98168</td>\n",
              "      <td>USA</td>\n",
              "    </tr>\n",
              "    <tr>\n",
              "      <th>3431</th>\n",
              "      <td>2014-06-26 00:00:00</td>\n",
              "      <td>225500.0</td>\n",
              "      <td>2.0</td>\n",
              "      <td>1.75</td>\n",
              "      <td>1590</td>\n",
              "      <td>11276</td>\n",
              "      <td>1.0</td>\n",
              "      <td>0</td>\n",
              "      <td>0</td>\n",
              "      <td>4</td>\n",
              "      <td>1590</td>\n",
              "      <td>0</td>\n",
              "      <td>1972</td>\n",
              "      <td>0</td>\n",
              "      <td>936 Pike Pl NE</td>\n",
              "      <td>Auburn</td>\n",
              "      <td>WA 98002</td>\n",
              "      <td>USA</td>\n",
              "    </tr>\n",
              "    <tr>\n",
              "      <th>930</th>\n",
              "      <td>2014-05-19 00:00:00</td>\n",
              "      <td>818000.0</td>\n",
              "      <td>2.0</td>\n",
              "      <td>2.50</td>\n",
              "      <td>2380</td>\n",
              "      <td>9374</td>\n",
              "      <td>1.0</td>\n",
              "      <td>0</td>\n",
              "      <td>2</td>\n",
              "      <td>3</td>\n",
              "      <td>2380</td>\n",
              "      <td>0</td>\n",
              "      <td>2011</td>\n",
              "      <td>0</td>\n",
              "      <td>12449 240th Pl NE</td>\n",
              "      <td>Redmond</td>\n",
              "      <td>WA 98053</td>\n",
              "      <td>USA</td>\n",
              "    </tr>\n",
              "    <tr>\n",
              "      <th>1564</th>\n",
              "      <td>2014-05-29 00:00:00</td>\n",
              "      <td>635200.0</td>\n",
              "      <td>4.0</td>\n",
              "      <td>1.75</td>\n",
              "      <td>1640</td>\n",
              "      <td>4240</td>\n",
              "      <td>1.0</td>\n",
              "      <td>0</td>\n",
              "      <td>0</td>\n",
              "      <td>5</td>\n",
              "      <td>920</td>\n",
              "      <td>720</td>\n",
              "      <td>1921</td>\n",
              "      <td>0</td>\n",
              "      <td>6517 Dibble Ave NW</td>\n",
              "      <td>Seattle</td>\n",
              "      <td>WA 98117</td>\n",
              "      <td>USA</td>\n",
              "    </tr>\n",
              "    <tr>\n",
              "      <th>2677</th>\n",
              "      <td>2014-06-17 00:00:00</td>\n",
              "      <td>382500.0</td>\n",
              "      <td>4.0</td>\n",
              "      <td>2.50</td>\n",
              "      <td>2210</td>\n",
              "      <td>7079</td>\n",
              "      <td>2.0</td>\n",
              "      <td>0</td>\n",
              "      <td>0</td>\n",
              "      <td>3</td>\n",
              "      <td>2210</td>\n",
              "      <td>0</td>\n",
              "      <td>1993</td>\n",
              "      <td>0</td>\n",
              "      <td>11824 SE 203rd St</td>\n",
              "      <td>Kent</td>\n",
              "      <td>WA 98031</td>\n",
              "      <td>USA</td>\n",
              "    </tr>\n",
              "    <tr>\n",
              "      <th>1467</th>\n",
              "      <td>2014-05-28 00:00:00</td>\n",
              "      <td>968000.0</td>\n",
              "      <td>6.0</td>\n",
              "      <td>2.75</td>\n",
              "      <td>3610</td>\n",
              "      <td>17580</td>\n",
              "      <td>1.0</td>\n",
              "      <td>0</td>\n",
              "      <td>4</td>\n",
              "      <td>5</td>\n",
              "      <td>2070</td>\n",
              "      <td>1540</td>\n",
              "      <td>1959</td>\n",
              "      <td>0</td>\n",
              "      <td>20303 SE 40th St</td>\n",
              "      <td>Sammamish</td>\n",
              "      <td>WA 98075</td>\n",
              "      <td>USA</td>\n",
              "    </tr>\n",
              "  </tbody>\n",
              "</table>\n",
              "</div>"
            ],
            "text/plain": [
              "                     date     price  bedrooms  ...       city  statezip  country\n",
              "4044  2014-07-07 00:00:00  509900.0       3.0  ...     Renton  WA 98059      USA\n",
              "3872  2014-07-02 00:00:00  262000.0       5.0  ...    Seattle  WA 98168      USA\n",
              "3431  2014-06-26 00:00:00  225500.0       2.0  ...     Auburn  WA 98002      USA\n",
              "930   2014-05-19 00:00:00  818000.0       2.0  ...    Redmond  WA 98053      USA\n",
              "1564  2014-05-29 00:00:00  635200.0       4.0  ...    Seattle  WA 98117      USA\n",
              "2677  2014-06-17 00:00:00  382500.0       4.0  ...       Kent  WA 98031      USA\n",
              "1467  2014-05-28 00:00:00  968000.0       6.0  ...  Sammamish  WA 98075      USA\n",
              "\n",
              "[7 rows x 18 columns]"
            ]
          },
          "metadata": {
            "tags": []
          },
          "execution_count": 6
        }
      ]
    },
    {
      "cell_type": "code",
      "metadata": {
        "id": "Z9Dt2Emp2FxG",
        "colab_type": "code",
        "outputId": "b540e654-0eb6-4a89-8cf7-4f093662e12d",
        "colab": {
          "base_uri": "https://localhost:8080/",
          "height": 451
        }
      },
      "source": [
        "data.info()"
      ],
      "execution_count": 7,
      "outputs": [
        {
          "output_type": "stream",
          "text": [
            "<class 'pandas.core.frame.DataFrame'>\n",
            "RangeIndex: 4600 entries, 0 to 4599\n",
            "Data columns (total 18 columns):\n",
            " #   Column         Non-Null Count  Dtype  \n",
            "---  ------         --------------  -----  \n",
            " 0   date           4600 non-null   object \n",
            " 1   price          4600 non-null   float64\n",
            " 2   bedrooms       4600 non-null   float64\n",
            " 3   bathrooms      4600 non-null   float64\n",
            " 4   sqft_living    4600 non-null   int64  \n",
            " 5   sqft_lot       4600 non-null   int64  \n",
            " 6   floors         4600 non-null   float64\n",
            " 7   waterfront     4600 non-null   int64  \n",
            " 8   view           4600 non-null   int64  \n",
            " 9   condition      4600 non-null   int64  \n",
            " 10  sqft_above     4600 non-null   int64  \n",
            " 11  sqft_basement  4600 non-null   int64  \n",
            " 12  yr_built       4600 non-null   int64  \n",
            " 13  yr_renovated   4600 non-null   int64  \n",
            " 14  street         4600 non-null   object \n",
            " 15  city           4600 non-null   object \n",
            " 16  statezip       4600 non-null   object \n",
            " 17  country        4600 non-null   object \n",
            "dtypes: float64(4), int64(9), object(5)\n",
            "memory usage: 647.0+ KB\n"
          ],
          "name": "stdout"
        }
      ]
    },
    {
      "cell_type": "code",
      "metadata": {
        "id": "j_EC8SmrfyuH",
        "colab_type": "code",
        "colab": {}
      },
      "source": [
        "data.yr_built = data.yr_built.astype(\"object\")\n",
        "data.yr_renovated = data.yr_renovated.astype(\"object\")\n",
        "\n"
      ],
      "execution_count": 0,
      "outputs": []
    },
    {
      "cell_type": "code",
      "metadata": {
        "id": "60RTxX582Llq",
        "colab_type": "code",
        "outputId": "30a10122-1f38-4d4f-d6b8-95f1f039320d",
        "colab": {
          "base_uri": "https://localhost:8080/",
          "height": 394
        }
      },
      "source": [
        "data.describe().T"
      ],
      "execution_count": 9,
      "outputs": [
        {
          "output_type": "execute_result",
          "data": {
            "text/html": [
              "<div>\n",
              "<style scoped>\n",
              "    .dataframe tbody tr th:only-of-type {\n",
              "        vertical-align: middle;\n",
              "    }\n",
              "\n",
              "    .dataframe tbody tr th {\n",
              "        vertical-align: top;\n",
              "    }\n",
              "\n",
              "    .dataframe thead th {\n",
              "        text-align: right;\n",
              "    }\n",
              "</style>\n",
              "<table border=\"1\" class=\"dataframe\">\n",
              "  <thead>\n",
              "    <tr style=\"text-align: right;\">\n",
              "      <th></th>\n",
              "      <th>count</th>\n",
              "      <th>mean</th>\n",
              "      <th>std</th>\n",
              "      <th>min</th>\n",
              "      <th>25%</th>\n",
              "      <th>50%</th>\n",
              "      <th>75%</th>\n",
              "      <th>max</th>\n",
              "    </tr>\n",
              "  </thead>\n",
              "  <tbody>\n",
              "    <tr>\n",
              "      <th>price</th>\n",
              "      <td>4600.0</td>\n",
              "      <td>551962.988473</td>\n",
              "      <td>563834.702547</td>\n",
              "      <td>0.0</td>\n",
              "      <td>322875.00</td>\n",
              "      <td>460943.461539</td>\n",
              "      <td>654962.50</td>\n",
              "      <td>26590000.0</td>\n",
              "    </tr>\n",
              "    <tr>\n",
              "      <th>bedrooms</th>\n",
              "      <td>4600.0</td>\n",
              "      <td>3.400870</td>\n",
              "      <td>0.908848</td>\n",
              "      <td>0.0</td>\n",
              "      <td>3.00</td>\n",
              "      <td>3.000000</td>\n",
              "      <td>4.00</td>\n",
              "      <td>9.0</td>\n",
              "    </tr>\n",
              "    <tr>\n",
              "      <th>bathrooms</th>\n",
              "      <td>4600.0</td>\n",
              "      <td>2.160815</td>\n",
              "      <td>0.783781</td>\n",
              "      <td>0.0</td>\n",
              "      <td>1.75</td>\n",
              "      <td>2.250000</td>\n",
              "      <td>2.50</td>\n",
              "      <td>8.0</td>\n",
              "    </tr>\n",
              "    <tr>\n",
              "      <th>sqft_living</th>\n",
              "      <td>4600.0</td>\n",
              "      <td>2139.346957</td>\n",
              "      <td>963.206916</td>\n",
              "      <td>370.0</td>\n",
              "      <td>1460.00</td>\n",
              "      <td>1980.000000</td>\n",
              "      <td>2620.00</td>\n",
              "      <td>13540.0</td>\n",
              "    </tr>\n",
              "    <tr>\n",
              "      <th>sqft_lot</th>\n",
              "      <td>4600.0</td>\n",
              "      <td>14852.516087</td>\n",
              "      <td>35884.436145</td>\n",
              "      <td>638.0</td>\n",
              "      <td>5000.75</td>\n",
              "      <td>7683.000000</td>\n",
              "      <td>11001.25</td>\n",
              "      <td>1074218.0</td>\n",
              "    </tr>\n",
              "    <tr>\n",
              "      <th>floors</th>\n",
              "      <td>4600.0</td>\n",
              "      <td>1.512065</td>\n",
              "      <td>0.538288</td>\n",
              "      <td>1.0</td>\n",
              "      <td>1.00</td>\n",
              "      <td>1.500000</td>\n",
              "      <td>2.00</td>\n",
              "      <td>3.5</td>\n",
              "    </tr>\n",
              "    <tr>\n",
              "      <th>waterfront</th>\n",
              "      <td>4600.0</td>\n",
              "      <td>0.007174</td>\n",
              "      <td>0.084404</td>\n",
              "      <td>0.0</td>\n",
              "      <td>0.00</td>\n",
              "      <td>0.000000</td>\n",
              "      <td>0.00</td>\n",
              "      <td>1.0</td>\n",
              "    </tr>\n",
              "    <tr>\n",
              "      <th>view</th>\n",
              "      <td>4600.0</td>\n",
              "      <td>0.240652</td>\n",
              "      <td>0.778405</td>\n",
              "      <td>0.0</td>\n",
              "      <td>0.00</td>\n",
              "      <td>0.000000</td>\n",
              "      <td>0.00</td>\n",
              "      <td>4.0</td>\n",
              "    </tr>\n",
              "    <tr>\n",
              "      <th>condition</th>\n",
              "      <td>4600.0</td>\n",
              "      <td>3.451739</td>\n",
              "      <td>0.677230</td>\n",
              "      <td>1.0</td>\n",
              "      <td>3.00</td>\n",
              "      <td>3.000000</td>\n",
              "      <td>4.00</td>\n",
              "      <td>5.0</td>\n",
              "    </tr>\n",
              "    <tr>\n",
              "      <th>sqft_above</th>\n",
              "      <td>4600.0</td>\n",
              "      <td>1827.265435</td>\n",
              "      <td>862.168977</td>\n",
              "      <td>370.0</td>\n",
              "      <td>1190.00</td>\n",
              "      <td>1590.000000</td>\n",
              "      <td>2300.00</td>\n",
              "      <td>9410.0</td>\n",
              "    </tr>\n",
              "    <tr>\n",
              "      <th>sqft_basement</th>\n",
              "      <td>4600.0</td>\n",
              "      <td>312.081522</td>\n",
              "      <td>464.137228</td>\n",
              "      <td>0.0</td>\n",
              "      <td>0.00</td>\n",
              "      <td>0.000000</td>\n",
              "      <td>610.00</td>\n",
              "      <td>4820.0</td>\n",
              "    </tr>\n",
              "  </tbody>\n",
              "</table>\n",
              "</div>"
            ],
            "text/plain": [
              "                count           mean  ...        75%         max\n",
              "price          4600.0  551962.988473  ...  654962.50  26590000.0\n",
              "bedrooms       4600.0       3.400870  ...       4.00         9.0\n",
              "bathrooms      4600.0       2.160815  ...       2.50         8.0\n",
              "sqft_living    4600.0    2139.346957  ...    2620.00     13540.0\n",
              "sqft_lot       4600.0   14852.516087  ...   11001.25   1074218.0\n",
              "floors         4600.0       1.512065  ...       2.00         3.5\n",
              "waterfront     4600.0       0.007174  ...       0.00         1.0\n",
              "view           4600.0       0.240652  ...       0.00         4.0\n",
              "condition      4600.0       3.451739  ...       4.00         5.0\n",
              "sqft_above     4600.0    1827.265435  ...    2300.00      9410.0\n",
              "sqft_basement  4600.0     312.081522  ...     610.00      4820.0\n",
              "\n",
              "[11 rows x 8 columns]"
            ]
          },
          "metadata": {
            "tags": []
          },
          "execution_count": 9
        }
      ]
    },
    {
      "cell_type": "code",
      "metadata": {
        "id": "wsiPHXvf8L4f",
        "colab_type": "code",
        "outputId": "bdaadf0c-decc-4762-8a75-d9902f0e7232",
        "colab": {
          "base_uri": "https://localhost:8080/",
          "height": 438
        }
      },
      "source": [
        "data.groupby(\"city\").price.mean().sort_values().plot.barh(figsize = (12,7), edgecolor = \"black\");"
      ],
      "execution_count": 10,
      "outputs": [
        {
          "output_type": "display_data",
          "data": {
            "image/png": "[encoded data removed]",
            "text/plain": [
              "<Figure size 864x504 with 1 Axes>"
            ]
          },
          "metadata": {
            "tags": [],
            "needs_background": "light"
          }
        }
      ]
    },
    {
      "cell_type": "markdown",
      "metadata": {
        "id": "aAATEzXU2aZG",
        "colab_type": "text"
      },
      "source": [
        "2.1 Determine which features are continuous vs categorical. Drop rows without a valid sales price."
      ]
    },
    {
      "cell_type": "code",
      "metadata": {
        "id": "VEABZy_-2O8c",
        "colab_type": "code",
        "outputId": "c9cc59f2-66da-42b1-fc1a-80f7d233073a",
        "colab": {
          "base_uri": "https://localhost:8080/",
          "height": 286
        }
      },
      "source": [
        "sns.kdeplot(data.price, cumulative = False, color = \"red\", shade = True);"
      ],
      "execution_count": 11,
      "outputs": [
        {
          "output_type": "display_data",
          "data": {
            "image/png": "[encoded data removed]",
            "text/plain": [
              "<Figure size 432x288 with 1 Axes>"
            ]
          },
          "metadata": {
            "tags": [],
            "needs_background": "light"
          }
        }
      ]
    },
    {
      "cell_type": "code",
      "metadata": {
        "id": "BPpLN_EL2rm9",
        "colab_type": "code",
        "colab": {}
      },
      "source": [
        "# Remove those with price 0\n",
        "data = data[data.price > 0].copy()"
      ],
      "execution_count": 0,
      "outputs": []
    },
    {
      "cell_type": "code",
      "metadata": {
        "id": "DqcFZ6gl3Ftk",
        "colab_type": "code",
        "outputId": "05d9eb4f-9c70-403d-b72a-212ca78c8f09",
        "colab": {
          "base_uri": "https://localhost:8080/",
          "height": 454
        }
      },
      "source": [
        "percentiles = [np.percentile(data.price, x) for x in range(0,100)]\n",
        "\n",
        "fig, ax = plt.subplots(1,2, figsize = (12,7))\n",
        "sns.kdeplot(np.log(data.price), cumulative = False, color = \"red\", shade = True, ax = ax[0])\n",
        "ax[0].set_title(\"Log of price distribution\")\n",
        "\n",
        "ax[1].plot(percentiles)\n",
        "ax[1].set_title(\"Cummulative distribution of house prices\")\n",
        "ax[1].set_xlabel(\"% of sample\")\n",
        "ax[1].set_ylabel(\"House's price\");"
      ],
      "execution_count": 13,
      "outputs": [
        {
          "output_type": "display_data",
          "data": {
            "image/png": "[encoded data removed]",
            "text/plain": [
              "<Figure size 864x504 with 2 Axes>"
            ]
          },
          "metadata": {
            "tags": [],
            "needs_background": "light"
          }
        }
      ]
    },
    {
      "cell_type": "markdown",
      "metadata": {
        "id": "KotelYpg4jix",
        "colab_type": "text"
      },
      "source": [
        "2.2 Visualize the univariate distribution of each continuous feature, and the distribution of the target. Do you notice anything? Is there something that might require special treatment?"
      ]
    },
    {
      "cell_type": "code",
      "metadata": {
        "id": "QHWNdx_l3kTN",
        "colab_type": "code",
        "outputId": "b5379b4f-6b0b-46a5-a821-99546169987c",
        "colab": {
          "base_uri": "https://localhost:8080/",
          "height": 513
        }
      },
      "source": [
        "# target feature (Price) is highly skwed to the left so it might be difficult for some models to learn the target function (Linear Regression)\n",
        "data.hist(bins = \"auto\", edgecolor = \"black\", color = \"grey\", figsize = (12,7))\n",
        "plt.tight_layout();"
      ],
      "execution_count": 14,
      "outputs": [
        {
          "output_type": "display_data",
          "data": {
            "image/png": "[encoded data removed]",
            "text/plain": [
              "<Figure size 864x504 with 12 Axes>"
            ]
          },
          "metadata": {
            "tags": [],
            "needs_background": "light"
          }
        }
      ]
    },
    {
      "cell_type": "markdown",
      "metadata": {
        "id": "C_-PrBQq5F2b",
        "colab_type": "text"
      },
      "source": [
        "2.3 Visualize the dependency of the target on each continuous feature (2d scatter plot)."
      ]
    },
    {
      "cell_type": "code",
      "metadata": {
        "id": "-3m9yCPT5xkG",
        "colab_type": "code",
        "outputId": "941c6a7b-e948-4456-dd4c-984981dc9530",
        "colab": {
          "base_uri": "https://localhost:8080/",
          "height": 485
        }
      },
      "source": [
        "fig, ax = plt.subplots(figsize = (12,7))\n",
        "sns.heatmap(data.select_dtypes(exclude= \"object\").corr(), cmap = \"RdYlBu\", ax = ax);"
      ],
      "execution_count": 15,
      "outputs": [
        {
          "output_type": "display_data",
          "data": {
            "image/png": "[encoded data removed]",
            "text/plain": [
              "<Figure size 864x504 with 2 Axes>"
            ]
          },
          "metadata": {
            "tags": [],
            "needs_background": "light"
          }
        }
      ]
    },
    {
      "cell_type": "markdown",
      "metadata": {
        "id": "IvTzsM2M6lA7",
        "colab_type": "text"
      },
      "source": [
        "2.4 Split data in training and test set. Do not use the test-set unless for a final evaluation in 2.5.\n",
        "Use ColumnTransformer and pipeline to encode categorical variables (your choice of OneHotEncoder or another one from the categorical_encoder package, or both). Impute missing values using SimpleImputer. Evaluate Linear Regression (OLS), Ridge, Lasso and ElasticNet using cross-validation with the default parameters. Does scaling the data (within the pipeline) with StandardScaler help? Use the preprocessing that works best going forward."
      ]
    },
    {
      "cell_type": "code",
      "metadata": {
        "id": "W-GXXO8nfMax",
        "colab_type": "code",
        "colab": {
          "base_uri": "https://localhost:8080/",
          "height": 52
        },
        "outputId": "0ec4e983-ee4b-4231-e072-347ec71ef9fd"
      },
      "source": [
        "# Since the data has no missing values I'm going to add some missing randomly (5%)\n",
        "for col in data.columns:\n",
        "    data.loc[data.sample(frac=0.01, random_state = 1990).index, col] = pd.np.nan"
      ],
      "execution_count": 16,
      "outputs": [
        {
          "output_type": "stream",
          "text": [
            "/usr/local/lib/python3.6/dist-packages/ipykernel_launcher.py:3: FutureWarning: The pandas.np module is deprecated and will be removed from pandas in a future version. Import numpy directly instead\n",
            "  This is separate from the ipykernel package so we can avoid doing imports until\n"
          ],
          "name": "stderr"
        }
      ]
    },
    {
      "cell_type": "code",
      "metadata": {
        "id": "N-dMylzPfclA",
        "colab_type": "code",
        "colab": {
          "base_uri": "https://localhost:8080/",
          "height": 347
        },
        "outputId": "19a152e0-9de7-426b-f40b-6f98a8e8348a"
      },
      "source": [
        "data.isnull().sum()"
      ],
      "execution_count": 17,
      "outputs": [
        {
          "output_type": "execute_result",
          "data": {
            "text/plain": [
              "date             46\n",
              "price            46\n",
              "bedrooms         46\n",
              "bathrooms        46\n",
              "sqft_living      46\n",
              "sqft_lot         46\n",
              "floors           46\n",
              "waterfront       46\n",
              "view             46\n",
              "condition        46\n",
              "sqft_above       46\n",
              "sqft_basement    46\n",
              "yr_built         46\n",
              "yr_renovated     46\n",
              "street           46\n",
              "city             46\n",
              "statezip         46\n",
              "country          46\n",
              "dtype: int64"
            ]
          },
          "metadata": {
            "tags": []
          },
          "execution_count": 17
        }
      ]
    },
    {
      "cell_type": "code",
      "metadata": {
        "id": "NGxO19EdfowA",
        "colab_type": "code",
        "colab": {
          "base_uri": "https://localhost:8080/",
          "height": 391
        },
        "outputId": "f9faeb64-c849-4cec-b49d-644f1832ade5"
      },
      "source": [
        "data.sample(7)"
      ],
      "execution_count": 18,
      "outputs": [
        {
          "output_type": "execute_result",
          "data": {
            "text/html": [
              "<div>\n",
              "<style scoped>\n",
              "    .dataframe tbody tr th:only-of-type {\n",
              "        vertical-align: middle;\n",
              "    }\n",
              "\n",
              "    .dataframe tbody tr th {\n",
              "        vertical-align: top;\n",
              "    }\n",
              "\n",
              "    .dataframe thead th {\n",
              "        text-align: right;\n",
              "    }\n",
              "</style>\n",
              "<table border=\"1\" class=\"dataframe\">\n",
              "  <thead>\n",
              "    <tr style=\"text-align: right;\">\n",
              "      <th></th>\n",
              "      <th>date</th>\n",
              "      <th>price</th>\n",
              "      <th>bedrooms</th>\n",
              "      <th>bathrooms</th>\n",
              "      <th>sqft_living</th>\n",
              "      <th>sqft_lot</th>\n",
              "      <th>floors</th>\n",
              "      <th>waterfront</th>\n",
              "      <th>view</th>\n",
              "      <th>condition</th>\n",
              "      <th>sqft_above</th>\n",
              "      <th>sqft_basement</th>\n",
              "      <th>yr_built</th>\n",
              "      <th>yr_renovated</th>\n",
              "      <th>street</th>\n",
              "      <th>city</th>\n",
              "      <th>statezip</th>\n",
              "      <th>country</th>\n",
              "    </tr>\n",
              "  </thead>\n",
              "  <tbody>\n",
              "    <tr>\n",
              "      <th>1124</th>\n",
              "      <td>2014-05-21 00:00:00</td>\n",
              "      <td>700000.0</td>\n",
              "      <td>4.0</td>\n",
              "      <td>3.25</td>\n",
              "      <td>2780.0</td>\n",
              "      <td>7875.0</td>\n",
              "      <td>2.0</td>\n",
              "      <td>0.0</td>\n",
              "      <td>0.0</td>\n",
              "      <td>3.0</td>\n",
              "      <td>2780.0</td>\n",
              "      <td>0.0</td>\n",
              "      <td>2006</td>\n",
              "      <td>0</td>\n",
              "      <td>543 N 138th St</td>\n",
              "      <td>Seattle</td>\n",
              "      <td>WA 98133</td>\n",
              "      <td>USA</td>\n",
              "    </tr>\n",
              "    <tr>\n",
              "      <th>4430</th>\n",
              "      <td>2014-05-29 00:00:00</td>\n",
              "      <td>408900.0</td>\n",
              "      <td>3.0</td>\n",
              "      <td>1.75</td>\n",
              "      <td>2930.0</td>\n",
              "      <td>19876.0</td>\n",
              "      <td>1.0</td>\n",
              "      <td>0.0</td>\n",
              "      <td>0.0</td>\n",
              "      <td>3.0</td>\n",
              "      <td>2030.0</td>\n",
              "      <td>900.0</td>\n",
              "      <td>1993</td>\n",
              "      <td>0</td>\n",
              "      <td>12542 NE 160th Pl</td>\n",
              "      <td>Woodinville</td>\n",
              "      <td>WA 98072</td>\n",
              "      <td>USA</td>\n",
              "    </tr>\n",
              "    <tr>\n",
              "      <th>3939</th>\n",
              "      <td>2014-07-03 00:00:00</td>\n",
              "      <td>1042031.0</td>\n",
              "      <td>4.0</td>\n",
              "      <td>5.00</td>\n",
              "      <td>4110.0</td>\n",
              "      <td>43560.0</td>\n",
              "      <td>2.0</td>\n",
              "      <td>0.0</td>\n",
              "      <td>0.0</td>\n",
              "      <td>4.0</td>\n",
              "      <td>4110.0</td>\n",
              "      <td>0.0</td>\n",
              "      <td>1978</td>\n",
              "      <td>2000</td>\n",
              "      <td>2808 120th Ave NE</td>\n",
              "      <td>Bellevue</td>\n",
              "      <td>WA 98005</td>\n",
              "      <td>USA</td>\n",
              "    </tr>\n",
              "    <tr>\n",
              "      <th>563</th>\n",
              "      <td>2014-05-13 00:00:00</td>\n",
              "      <td>415000.0</td>\n",
              "      <td>3.0</td>\n",
              "      <td>1.75</td>\n",
              "      <td>1960.0</td>\n",
              "      <td>5000.0</td>\n",
              "      <td>1.0</td>\n",
              "      <td>0.0</td>\n",
              "      <td>0.0</td>\n",
              "      <td>5.0</td>\n",
              "      <td>980.0</td>\n",
              "      <td>980.0</td>\n",
              "      <td>1911</td>\n",
              "      <td>1984</td>\n",
              "      <td>4958 12th Ave S</td>\n",
              "      <td>Seattle</td>\n",
              "      <td>WA 98108</td>\n",
              "      <td>USA</td>\n",
              "    </tr>\n",
              "    <tr>\n",
              "      <th>1251</th>\n",
              "      <td>2014-05-23 00:00:00</td>\n",
              "      <td>595000.0</td>\n",
              "      <td>2.0</td>\n",
              "      <td>1.50</td>\n",
              "      <td>1030.0</td>\n",
              "      <td>4500.0</td>\n",
              "      <td>1.0</td>\n",
              "      <td>0.0</td>\n",
              "      <td>0.0</td>\n",
              "      <td>3.0</td>\n",
              "      <td>830.0</td>\n",
              "      <td>200.0</td>\n",
              "      <td>1924</td>\n",
              "      <td>2011</td>\n",
              "      <td>2726 Mayfair Ave N</td>\n",
              "      <td>Seattle</td>\n",
              "      <td>WA 98109</td>\n",
              "      <td>USA</td>\n",
              "    </tr>\n",
              "    <tr>\n",
              "      <th>911</th>\n",
              "      <td>2014-05-19 00:00:00</td>\n",
              "      <td>319950.0</td>\n",
              "      <td>4.0</td>\n",
              "      <td>1.75</td>\n",
              "      <td>2310.0</td>\n",
              "      <td>8045.0</td>\n",
              "      <td>1.0</td>\n",
              "      <td>0.0</td>\n",
              "      <td>0.0</td>\n",
              "      <td>4.0</td>\n",
              "      <td>1650.0</td>\n",
              "      <td>660.0</td>\n",
              "      <td>1976</td>\n",
              "      <td>1992</td>\n",
              "      <td>16336 131st Ave SE</td>\n",
              "      <td>Renton</td>\n",
              "      <td>WA 98058</td>\n",
              "      <td>USA</td>\n",
              "    </tr>\n",
              "    <tr>\n",
              "      <th>1639</th>\n",
              "      <td>2014-05-30 00:00:00</td>\n",
              "      <td>800000.0</td>\n",
              "      <td>2.0</td>\n",
              "      <td>2.25</td>\n",
              "      <td>1730.0</td>\n",
              "      <td>31491.0</td>\n",
              "      <td>2.0</td>\n",
              "      <td>1.0</td>\n",
              "      <td>2.0</td>\n",
              "      <td>4.0</td>\n",
              "      <td>1730.0</td>\n",
              "      <td>0.0</td>\n",
              "      <td>1947</td>\n",
              "      <td>1988</td>\n",
              "      <td>10060 SW Dock St</td>\n",
              "      <td>Vashon</td>\n",
              "      <td>WA 98070</td>\n",
              "      <td>USA</td>\n",
              "    </tr>\n",
              "  </tbody>\n",
              "</table>\n",
              "</div>"
            ],
            "text/plain": [
              "                     date      price  bedrooms  ...         city  statezip  country\n",
              "1124  2014-05-21 00:00:00   700000.0       4.0  ...      Seattle  WA 98133      USA\n",
              "4430  2014-05-29 00:00:00   408900.0       3.0  ...  Woodinville  WA 98072      USA\n",
              "3939  2014-07-03 00:00:00  1042031.0       4.0  ...     Bellevue  WA 98005      USA\n",
              "563   2014-05-13 00:00:00   415000.0       3.0  ...      Seattle  WA 98108      USA\n",
              "1251  2014-05-23 00:00:00   595000.0       2.0  ...      Seattle  WA 98109      USA\n",
              "911   2014-05-19 00:00:00   319950.0       4.0  ...       Renton  WA 98058      USA\n",
              "1639  2014-05-30 00:00:00   800000.0       2.0  ...       Vashon  WA 98070      USA\n",
              "\n",
              "[7 rows x 18 columns]"
            ]
          },
          "metadata": {
            "tags": []
          },
          "execution_count": 18
        }
      ]
    },
    {
      "cell_type": "code",
      "metadata": {
        "id": "CeGSKCwJ5ZJM",
        "colab_type": "code",
        "colab": {}
      },
      "source": [
        "X_train, X_val, y_train, y_val = train_test_split(data.drop([\"price\", \"date\", \"country\", \"street\", \"statezip\"], axis = 1), data.price, test_size = .4, random_state = 1990)"
      ],
      "execution_count": 0,
      "outputs": []
    },
    {
      "cell_type": "code",
      "metadata": {
        "id": "FNTJ-qSz9DaE",
        "colab_type": "code",
        "colab": {}
      },
      "source": [
        "preprocesor = make_column_transformer((StandardScaler(), make_column_selector(dtype_exclude= \"object\")),\n",
        "                                      (TargetEncoder(), make_column_selector(dtype_include= \"object\")))"
      ],
      "execution_count": 0,
      "outputs": []
    },
    {
      "cell_type": "code",
      "metadata": {
        "id": "LcUflRt6myNm",
        "colab_type": "code",
        "colab": {}
      },
      "source": [
        "lasso = Pipeline([(\"preprocesor\",preprocesor), (\"model\", Lasso())])\n",
        "ridge = Pipeline([(\"preprocesor\",preprocesor), (\"model\", Ridge())])\n",
        "en = Pipeline([(\"preprocesor\",preprocesor), (\"model\", ElasticNet())])\n",
        "\n",
        "models = [lasso, ridge, en]"
      ],
      "execution_count": 0,
      "outputs": []
    },
    {
      "cell_type": "code",
      "metadata": {
        "id": "y0RrEUJJ_Swf",
        "colab_type": "code",
        "outputId": "37ea64bf-eff0-416b-f2cb-e903f5909511",
        "colab": {
          "base_uri": "https://localhost:8080/",
          "height": 572
        }
      },
      "source": [
        "plot_cv_score(X_train, y_train,models)"
      ],
      "execution_count": 94,
      "outputs": [
        {
          "output_type": "stream",
          "text": [
            "/usr/local/lib/python3.6/dist-packages/sklearn/linear_model/_coordinate_descent.py:476: ConvergenceWarning: Objective did not converge. You might want to increase the number of iterations. Duality gap: 27002013725044.344, tolerance: 52915383451.64536\n",
            "  positive)\n"
          ],
          "name": "stderr"
        },
        {
          "output_type": "display_data",
          "data": {
            "image/png": "[encoded data removed]",
            "text/plain": [
              "<Figure size 1080x504 with 2 Axes>"
            ]
          },
          "metadata": {
            "tags": [],
            "needs_background": "light"
          }
        }
      ]
    },
    {
      "cell_type": "markdown",
      "metadata": {
        "id": "IqlgHFMQjfmj",
        "colab_type": "text"
      },
      "source": [
        "2.5 Tune the parameters of the models using GridSearchCV. Do the results improve? Visualize the dependence of the validation score on the parameters for Ridge, Lasso and ElasticNet."
      ]
    },
    {
      "cell_type": "code",
      "metadata": {
        "id": "_fzDR_JxEseg",
        "colab_type": "code",
        "colab": {
          "base_uri": "https://localhost:8080/",
          "height": 72
        },
        "outputId": "3452df62-1894-4bdd-f49f-c7f493e42000"
      },
      "source": [
        "param_dict = {\"model__alpha\":np.logspace(-2.5,2.5,10)}\n",
        "\n",
        "opt_lasso = optimize_parameters(lasso, param_dict,X_train, y_train, cv = 7)\n",
        "opt_ridge = optimize_parameters(ridge, param_dict,X_train, y_train, cv = 7)\n",
        "opt_en = optimize_parameters(en, param_dict,X_train, y_train, cv = 7)\n"
      ],
      "execution_count": 100,
      "outputs": [
        {
          "output_type": "stream",
          "text": [
            "/usr/local/lib/python3.6/dist-packages/sklearn/linear_model/_coordinate_descent.py:476: ConvergenceWarning: Objective did not converge. You might want to increase the number of iterations. Duality gap: 132873254166432.58, tolerance: 52915383451.64536\n",
            "  positive)\n"
          ],
          "name": "stderr"
        }
      ]
    },
    {
      "cell_type": "code",
      "metadata": {
        "id": "lAd4ONQkifxk",
        "colab_type": "code",
        "colab": {
          "base_uri": "https://localhost:8080/",
          "height": 295
        },
        "outputId": "9bd4846f-4f8e-457f-c0a5-08de21376b95"
      },
      "source": [
        "plot_validation_curve(lasso,X_train, y_train, \"model__alpha\", np.logspace(-10,10,10))"
      ],
      "execution_count": 112,
      "outputs": [
        {
          "output_type": "display_data",
          "data": {
            "image/png": "[encoded data removed]",
            "text/plain": [
              "<Figure size 432x288 with 1 Axes>"
            ]
          },
          "metadata": {
            "tags": [],
            "needs_background": "light"
          }
        }
      ]
    },
    {
      "cell_type": "code",
      "metadata": {
        "id": "U-hA1AjdoDN0",
        "colab_type": "code",
        "colab": {
          "base_uri": "https://localhost:8080/",
          "height": 295
        },
        "outputId": "33a0e5df-1a0d-4741-d3c3-ff2243ecad34"
      },
      "source": [
        "plot_validation_curve(ridge,X_train, y_train, \"model__alpha\", np.logspace(-20.2,20.2,10))"
      ],
      "execution_count": 113,
      "outputs": [
        {
          "output_type": "display_data",
          "data": {
            "image/png": "[encoded data removed]",
            "text/plain": [
              "<Figure size 432x288 with 1 Axes>"
            ]
          },
          "metadata": {
            "tags": [],
            "needs_background": "light"
          }
        }
      ]
    },
    {
      "cell_type": "code",
      "metadata": {
        "id": "U8LL2W-SobQE",
        "colab_type": "code",
        "colab": {
          "base_uri": "https://localhost:8080/",
          "height": 295
        },
        "outputId": "cdc382a0-e6c7-4851-8ccc-1a0b62cd2916"
      },
      "source": [
        "plot_validation_curve(en,X_train, y_train, \"model__alpha\", np.logspace(-2.20,2.20,10))"
      ],
      "execution_count": 114,
      "outputs": [
        {
          "output_type": "display_data",
          "data": {
            "image/png": "[encoded data removed]",
            "text/plain": [
              "<Figure size 432x288 with 1 Axes>"
            ]
          },
          "metadata": {
            "tags": [],
            "needs_background": "light"
          }
        }
      ]
    },
    {
      "cell_type": "code",
      "metadata": {
        "id": "n0dKy231pnCt",
        "colab_type": "code",
        "colab": {}
      },
      "source": [
        ""
      ],
      "execution_count": 0,
      "outputs": []
    }
  ]
}